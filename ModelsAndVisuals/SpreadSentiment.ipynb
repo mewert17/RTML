{
 "cells": [
  {
   "cell_type": "code",
   "execution_count": 11,
   "id": "d04aab51",
   "metadata": {},
   "outputs": [
    {
     "name": "stdout",
     "output_type": "stream",
     "text": [
      "✅ Columns found: ['Month', 'Ethereum', 'Bitcoin', 'Dogecoin']\n"
     ]
    }
   ],
   "source": [
    "import pandas as pd\n",
    "from datetime import datetime\n",
    "\n",
    "# Load the CSV and clean column names\n",
    "df = pd.read_csv(\"multiTimelineTOT.csv\")\n",
    "df.columns = df.columns.str.strip()  # Remove extra spaces\n",
    "\n",
    "# Print column names to confirm\n",
    "print(\"✅ Columns found:\", df.columns.tolist())\n",
    "\n",
    "# Replace \"<1\" with 0.5 and convert to float\n",
    "df.replace(\"<1\", 0.5, inplace=True)\n",
    "df[\"Ethereum\"] = df[\"Ethereum\"].astype(float)\n",
    "df[\"Bitcoin\"] = df[\"Bitcoin\"].astype(float)\n",
    "df[\"Dogecoin\"] = df[\"Dogecoin\"].astype(float)\n",
    "\n",
    "# Convert 'Month' column to datetime\n",
    "df[\"Month\"] = pd.to_datetime(df[\"Month\"])\n",
    "\n",
    "# Define the full daily date range\n",
    "start_date = datetime(2017, 9, 18)\n",
    "end_date = datetime(2025, 5, 6)\n",
    "all_days = pd.date_range(start=start_date, end=end_date, freq='D')\n",
    "\n",
    "# Build the expanded daily dataset\n",
    "daily_rows = []\n",
    "\n",
    "for date in all_days:\n",
    "    month_start = datetime(date.year, date.month, 1)\n",
    "    row = df[df[\"Month\"] == pd.Timestamp(month_start)]\n",
    "    \n",
    "    if not row.empty:\n",
    "        daily_rows.append({\n",
    "            \"Date\": date.strftime(\"%Y-%m-%d\"),\n",
    "            \"Ethereum\": float(row[\"Ethereum\"].values[0]),\n",
    "            \"Bitcoin\": float(row[\"Bitcoin\"].values[0]),\n",
    "            \"Dogecoin\": float(row[\"Dogecoin\"].values[0]),\n",
    "        })\n",
    "\n",
    "# Save to CSV\n",
    "daily_df = pd.DataFrame(daily_rows)\n",
    "daily_df.to_csv(\"newTimeline.csv\", index=False)\n"
   ]
  }
 ],
 "metadata": {
  "kernelspec": {
   "display_name": "Python 3",
   "language": "python",
   "name": "python3"
  },
  "language_info": {
   "codemirror_mode": {
    "name": "ipython",
    "version": 3
   },
   "file_extension": ".py",
   "mimetype": "text/x-python",
   "name": "python",
   "nbconvert_exporter": "python",
   "pygments_lexer": "ipython3",
   "version": "3.11.9"
  }
 },
 "nbformat": 4,
 "nbformat_minor": 5
}
